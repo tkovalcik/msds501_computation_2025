{
 "cells": [
  {
   "attachments": {},
   "cell_type": "markdown",
   "metadata": {},
   "source": [
    "For a list of strings in a format of \"category-courseID\", complete class_dictionary() that creates a dictionary of \"category\":\"set of unique courseIDs\".\n",
    "\n",
    "- Ex. classes = [\"computation-MSDS597\",\"statistics-MSDS504\",\"computation-MSDS501\", \"computation-MSDS501\", \"statistics-MSDS504\"], class_dictionary(classes) returns {'computation': {'MSDS501', 'MSDS597'}, 'statistics': {'MSDS504'}}"
   ]
  },
  {
   "cell_type": "code",
   "execution_count": 25,
   "metadata": {},
   "outputs": [],
   "source": [
    "def class_dictionary(classes):\n",
    "    \n",
    "    cls_dict = dict()\n",
    "    keys = ()\n",
    "    values = ()\n",
    "    sep = \"-\"\n",
    "\n",
    "    for i in classes:\n",
    "\n",
    "        splitted = i.split(sep)\n",
    "\n",
    "        #print(f\"{splitted}\")\n",
    "\n",
    "        if splitted[0] in cls_dict.keys():\n",
    "            cls_dict[splitted[0]].add(splitted[1])\n",
    "        else:\n",
    "            cls_dict[splitted[0]] = {splitted[1]}\n",
    "    \n",
    "    #print(cls_dict)\n",
    "    return cls_dict\n",
    "\n",
    "\n",
    "\n",
    "\n",
    "    \n",
    "\n",
    "    '''\n",
    "    print(keys)\n",
    "    print(values)\n",
    "    dict = {keys: values}\n",
    "    print(dict)\n",
    "    '''\n",
    "\n",
    "    #return dict"
   ]
  },
  {
   "cell_type": "code",
   "execution_count": 26,
   "metadata": {},
   "outputs": [
    {
     "data": {
      "text/plain": [
       "{'computation': {'MSDS501', 'MSDS597'}, 'statistics': {'MSDS504'}}"
      ]
     },
     "execution_count": 26,
     "metadata": {},
     "output_type": "execute_result"
    }
   ],
   "source": [
    "classes = [\"computation-MSDS597\",\n",
    "           \"statistics-MSDS504\", \n",
    "           \"computation-MSDS501\", \n",
    "           \"computation-MSDS501\", \n",
    "           \"statistics-MSDS504\"]\n",
    "class_dictionary(classes) #== {'computation': {'MSDS501', 'MSDS597'}, 'statistics': {'MSDS504'}}"
   ]
  },
  {
   "attachments": {},
   "cell_type": "markdown",
   "metadata": {},
   "source": [
    "From the created dictionary, return all the \"computation\" courses in a list"
   ]
  },
  {
   "cell_type": "code",
   "execution_count": 27,
   "metadata": {},
   "outputs": [
    {
     "data": {
      "text/plain": [
       "['MSDS597', 'MSDS501']"
      ]
     },
     "execution_count": 27,
     "metadata": {},
     "output_type": "execute_result"
    }
   ],
   "source": [
    "cl_list = list(class_dictionary(classes)[\"computation\"])\n",
    "cl_list.reverse()\n",
    "cl_list"
   ]
  },
  {
   "cell_type": "code",
   "execution_count": 31,
   "metadata": {},
   "outputs": [
    {
     "ename": "StopIteration",
     "evalue": "",
     "output_type": "error",
     "traceback": [
      "\u001b[0;31m---------------------------------------------------------------------------\u001b[0m",
      "\u001b[0;31mStopIteration\u001b[0m                             Traceback (most recent call last)",
      "Cell \u001b[0;32mIn[31], line 8\u001b[0m\n\u001b[1;32m      6\u001b[0m \u001b[38;5;28mnext\u001b[39m(my_list_iterator)\n\u001b[1;32m      7\u001b[0m \u001b[38;5;28mnext\u001b[39m(my_list_iterator)\n\u001b[0;32m----> 8\u001b[0m \u001b[38;5;28mnext\u001b[39m(my_list_iterator)\n",
      "\u001b[0;31mStopIteration\u001b[0m: "
     ]
    }
   ],
   "source": [
    "my_list = ('apple', 'banana', 'mango')\n",
    "\n",
    "my_list_iterator = iter(my_list)\n",
    "\n",
    "next(my_list_iterator)\n",
    "next(my_list_iterator)\n",
    "next(my_list_iterator)\n",
    "next(my_list_iterator)"
   ]
  }
 ],
 "metadata": {
  "kernelspec": {
   "display_name": "base",
   "language": "python",
   "name": "python3"
  },
  "language_info": {
   "codemirror_mode": {
    "name": "ipython",
    "version": 3
   },
   "file_extension": ".py",
   "mimetype": "text/x-python",
   "name": "python",
   "nbconvert_exporter": "python",
   "pygments_lexer": "ipython3",
   "version": "3.13.5"
  },
  "orig_nbformat": 4
 },
 "nbformat": 4,
 "nbformat_minor": 2
}
