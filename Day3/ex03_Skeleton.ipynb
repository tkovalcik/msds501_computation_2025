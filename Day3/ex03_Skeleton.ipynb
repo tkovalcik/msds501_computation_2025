{
 "cells": [
  {
   "attachments": {},
   "cell_type": "markdown",
   "metadata": {},
   "source": [
    "For a string s and an integer k, reverse the first k characters in s for every 2k characters.\n",
    "- Ex. s = \"abcdefg\", k = 2, reverse_str(s,k) should return \"bacdfeg\""
   ]
  },
  {
   "cell_type": "code",
   "execution_count": 36,
   "metadata": {},
   "outputs": [],
   "source": [
    "def reverse_str(s: str, k: int):\n",
    "    \n",
    "    '''\n",
    "    sub_string = s[:k]\n",
    "    remainder_string = s[k:]\n",
    "    #print(remainder_string)\n",
    "    reversed_sub_string = reverse(sub_string)\n",
    "    #print(reversed_sub_string)\n",
    "    new_string = reversed_sub_string + remainder_string\n",
    "    '''\n",
    "    output = list()\n",
    "    \n",
    "    for i in range(0, len(s), 2*k):\n",
    "        swap_seq = list(s[i: i+k: 1])\n",
    "        swap_seq.reverse()\n",
    "        swap_seq + list(s[i+k: i+ 2*k])\n",
    "        output += swap_seq + list(s[i+k: 2*k*i])\n",
    "    \n",
    "    output_str = \"\"\n",
    "    \n",
    "    for elem in output:\n",
    "        output_str += elem\n",
    "\n",
    "    print(output_str)\n",
    "    return output_str\n"
   ]
  },
  {
   "cell_type": "code",
   "execution_count": 37,
   "metadata": {},
   "outputs": [
    {
     "name": "stdout",
     "output_type": "stream",
     "text": [
      "bafeg\n"
     ]
    },
    {
     "data": {
      "text/plain": [
       "False"
      ]
     },
     "execution_count": 37,
     "metadata": {},
     "output_type": "execute_result"
    }
   ],
   "source": [
    "s = \"abcdefg\"\n",
    "k = 2\n",
    "reverse_str(s, k) == \"bacdfeg\""
   ]
  },
  {
   "cell_type": "code",
   "execution_count": null,
   "metadata": {},
   "outputs": [],
   "source": [
    "s = \"abcd\"\n",
    "k = 3\n",
    "reverse_str(s, k) == \"cbad\""
   ]
  },
  {
   "cell_type": "code",
   "execution_count": null,
   "metadata": {},
   "outputs": [],
   "source": []
  }
 ],
 "metadata": {
  "kernelspec": {
   "display_name": "base",
   "language": "python",
   "name": "python3"
  },
  "language_info": {
   "codemirror_mode": {
    "name": "ipython",
    "version": 3
   },
   "file_extension": ".py",
   "mimetype": "text/x-python",
   "name": "python",
   "nbconvert_exporter": "python",
   "pygments_lexer": "ipython3",
   "version": "3.13.5"
  },
  "orig_nbformat": 4
 },
 "nbformat": 4,
 "nbformat_minor": 2
}
