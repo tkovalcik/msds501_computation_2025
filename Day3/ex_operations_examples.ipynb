{
 "cells": [
  {
   "attachments": {},
   "cell_type": "markdown",
   "metadata": {},
   "source": [
    "Numeric Operations"
   ]
  },
  {
   "cell_type": "code",
   "execution_count": 7,
   "metadata": {},
   "outputs": [
    {
     "name": "stdout",
     "output_type": "stream",
     "text": [
      "11.52\n",
      "1.0\n",
      "1.5199999999999996\n",
      "6.52\n",
      "6\n",
      "6.52\n",
      "(6.52+5j)\n",
      "11782.514385203196\n",
      "6.5\n"
     ]
    }
   ],
   "source": [
    "x = 6.52\n",
    "y = 5\n",
    "\n",
    "print(x+y)\n",
    "print(x//y)\n",
    "print(x%y)\n",
    "print(abs(x))\n",
    "print(int(x))\n",
    "print(float(x))\n",
    "print(complex(x, y))\n",
    "print(pow(x, y))\n",
    "print(round(x, 1))"
   ]
  },
  {
   "cell_type": "code",
   "execution_count": 9,
   "metadata": {},
   "outputs": [
    {
     "name": "stdout",
     "output_type": "stream",
     "text": [
      "6\n",
      "6\n",
      "7\n",
      "678.5783853394423\n",
      "2.321928094887362\n"
     ]
    }
   ],
   "source": [
    "import math\n",
    "\n",
    "x = 6.52\n",
    "y = 5\n",
    "base = 2\n",
    "print(math.trunc(x))\n",
    "print(math.floor(x))\n",
    "print(math.ceil(x))\n",
    "print(math.exp(x))\n",
    "print(math.log(y, base))"
   ]
  },
  {
   "attachments": {},
   "cell_type": "markdown",
   "metadata": {},
   "source": [
    "Sequence Operations"
   ]
  },
  {
   "cell_type": "code",
   "execution_count": 13,
   "metadata": {},
   "outputs": [
    {
     "name": "stdout",
     "output_type": "stream",
     "text": [
      "True\n",
      "[1, 2, 3, 4, 5, 6]\n",
      "[1, 2, 3, 4, 1, 2, 3, 4]\n",
      "2\n",
      "[2, 3]\n",
      "[2]\n",
      "4\n",
      "1\n",
      "4\n",
      "1\n",
      "1\n"
     ]
    }
   ],
   "source": [
    "x = 2\n",
    "s, t = [1, 2, 3, 4], [5, 6]\n",
    "n,i,j,k = 2,1,3,2\n",
    "\n",
    "print(x in s)\n",
    "print(s+t)\n",
    "print(s*n)\n",
    "print(s[i])\n",
    "print(s[i:j])\n",
    "print(s[i:j:k])\n",
    "print(len(s))\n",
    "print(min(s))\n",
    "print(max(s))\n",
    "print(s.index(x))\n",
    "print(s.count(x))"
   ]
  },
  {
   "attachments": {},
   "cell_type": "markdown",
   "metadata": {},
   "source": [
    "Sequence - List Operations"
   ]
  },
  {
   "cell_type": "code",
   "execution_count": 3,
   "metadata": {},
   "outputs": [
    {
     "name": "stdout",
     "output_type": "stream",
     "text": [
      "[1, 2, 3, 4]\n",
      "[2, 1, 4, 3, 4]\n",
      "[2, 4, 1, 4, 3]\n",
      "[2, 1, 3]\n",
      "[2, 4, 3]\n",
      "[3, 4, 1, 2]\n"
     ]
    }
   ],
   "source": [
    "s = [2, 1, 4, 3]\n",
    "i, x = 1, 4\n",
    "\n",
    "s.sort(reverse=False)\n",
    "print(s)\n",
    "\n",
    "s = [2, 1, 4, 3]\n",
    "s.append(x)\n",
    "print(s)\n",
    "\n",
    "s = [2, 1, 4, 3]\n",
    "s.insert(i,x)\n",
    "print(s)\n",
    "\n",
    "s = [2, 1, 4, 3]\n",
    "s.remove(x)\n",
    "print(s)\n",
    "\n",
    "s = [2, 1, 4, 3]\n",
    "s.pop(i)\n",
    "print(s)\n",
    "\n",
    "s = [2, 1, 4, 3]\n",
    "s.reverse()\n",
    "print(s)"
   ]
  },
  {
   "attachments": {},
   "cell_type": "markdown",
   "metadata": {},
   "source": [
    "Sequence - String Operations"
   ]
  },
  {
   "cell_type": "code",
   "execution_count": 4,
   "metadata": {},
   "outputs": [
    {
     "name": "stdout",
     "output_type": "stream",
     "text": [
      "True\n",
      "False\n",
      "13\n",
      "False\n",
      "False\n",
      "False\n",
      "False\n",
      " hello, everyone!\n",
      " HELLO, EVERYONE!\n",
      "Hello, Everyone!\n",
      "[' Hello', ' Everyone!']\n",
      " Hello, Everybody!\n",
      " Hello, Everyone!\n"
     ]
    }
   ],
   "source": [
    "str = \" Hello, Everyone!\"\n",
    "suffix, prefix = \"!\", \"Hello\"\n",
    "sub, chars, sep = \"one\", \" \", \",\"\n",
    "old, new = \"Everyone\", \"Everybody\"\n",
    "\n",
    "print(str.endswith(suffix))\n",
    "print(str.startswith(prefix))\n",
    "print(str.find(sub))\n",
    "print(str.islower())\n",
    "print(str.isupper())\n",
    "print(str.isalpha())\n",
    "print(str.isnumeric())\n",
    "print(str.lower())\n",
    "print(str.upper())\n",
    "print(str.strip(chars))\n",
    "print(str.split(sep))\n",
    "print(str.replace(old, new))\n",
    "print(str)"
   ]
  },
  {
   "attachments": {},
   "cell_type": "markdown",
   "metadata": {},
   "source": [
    "Mapping - Dict Operations"
   ]
  },
  {
   "cell_type": "code",
   "execution_count": 1,
   "metadata": {},
   "outputs": [
    {
     "name": "stdout",
     "output_type": "stream",
     "text": [
      "['A', 'B', 'C']\n",
      "c\n",
      "c!\n",
      "<dict_keyiterator object at 0x108eb71a0>\n",
      "dict_keys(['A', 'B', 'C'])\n",
      "dict_values(['a', 'b', 'c'])\n",
      "dict_items([('A', 'a'), ('B', 'b'), ('C', 'c')])\n"
     ]
    }
   ],
   "source": [
    "d = {\"A\":\"a\", \"B\":\"b\", \"C\":\"c\"}\n",
    "k = \"C\"\n",
    "value = \"c!\"\n",
    "\n",
    "print(list(d))\n",
    "print(d[k])\n",
    "\n",
    "d[k] = value\n",
    "print(d[k])\n",
    "d = {\"A\":\"a\", \"B\":\"b\", \"C\":\"c\"}\n",
    "print(iter(d))\n",
    "print(d.keys())\n",
    "print(d.values())\n",
    "print(d.items())"
   ]
  },
  {
   "attachments": {},
   "cell_type": "markdown",
   "metadata": {},
   "source": [
    "Set - Operations"
   ]
  },
  {
   "cell_type": "code",
   "execution_count": 40,
   "metadata": {},
   "outputs": [
    {
     "name": "stdout",
     "output_type": "stream",
     "text": [
      "{1, 2, 3, 4}\n",
      "{1, 2, 3}\n",
      "False\n",
      "False\n",
      "False\n",
      "True\n",
      "{1, 2, 3}\n",
      "{2, 3}\n",
      "{1}\n"
     ]
    }
   ],
   "source": [
    "s = {1, 2, 2, 3}\n",
    "item = 4\n",
    "x = 4\n",
    "other = {2, 3}\n",
    "\n",
    "s.add(item)\n",
    "print(s)\n",
    "s.remove(item)\n",
    "print(s)\n",
    "print(x in s)\n",
    "print(s.isdisjoint(other))\n",
    "print(s.issubset(other))\n",
    "print(s.issuperset(other))\n",
    "print(s.union(other))\n",
    "print(s.intersection(other))\n",
    "print(s.difference(other))"
   ]
  }
 ],
 "metadata": {
  "kernelspec": {
   "display_name": "base",
   "language": "python",
   "name": "python3"
  },
  "language_info": {
   "codemirror_mode": {
    "name": "ipython",
    "version": 3
   },
   "file_extension": ".py",
   "mimetype": "text/x-python",
   "name": "python",
   "nbconvert_exporter": "python",
   "pygments_lexer": "ipython3",
   "version": "3.13.5"
  },
  "orig_nbformat": 4
 },
 "nbformat": 4,
 "nbformat_minor": 2
}
