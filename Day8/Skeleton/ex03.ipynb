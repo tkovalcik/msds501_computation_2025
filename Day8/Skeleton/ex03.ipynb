{
 "cells": [
  {
   "cell_type": "code",
   "execution_count": 35,
   "metadata": {},
   "outputs": [],
   "source": [
    "import pickle\n",
    "import csv"
   ]
  },
  {
   "attachments": {},
   "cell_type": "markdown",
   "metadata": {},
   "source": [
    "Create \n",
    "- convert_pickle_to_csv() which creates a csv file in output_path, by converting the pickle file in input_path.\n",
    "- filter_csv_and_save() which loads the csv file in input_path and filter data on index, and writes its unique set as a pickle file on output_path."
   ]
  },
  {
   "cell_type": "code",
   "execution_count": 36,
   "metadata": {},
   "outputs": [],
   "source": [
    "def convert_pickle_to_csv(input_path, output_path):\n",
    "    \"\"\"\n",
    "    Create a csv file in output_path, by converting\n",
    "    the pickle file in input_path.\n",
    "    \"\"\"\n",
    "    with open (input_path, 'rb') as file_obj:\n",
    "        data = pickle.load(file_obj)\n",
    "    \n",
    "        print(data[0:10])\n",
    "        print(type(data))\n",
    "\n",
    "        with open (output_path, 'w') as file_obj2:\n",
    "            csv_writer = csv.writer(file_obj2)\n",
    "            csv_writer.writerows(data)"
   ]
  },
  {
   "cell_type": "code",
   "execution_count": 37,
   "metadata": {},
   "outputs": [
    {
     "name": "stdout",
     "output_type": "stream",
     "text": [
      "[[2020, 1, 1, 60070008, 27, 25, 'Chico-East Avenue', 'California', 'Butte', 39.76168, -121.84047], [2020, 1, 2, 60070008, 22, 20, 'Chico-East Avenue', 'California', 'Butte', 39.76168, -121.84047], [2020, 1, 3, 60070008, 30, 28, 'Chico-East Avenue', 'California', 'Butte', 39.76168, -121.84047], [2020, 1, 4, 60070008, 17, 16, 'Chico-East Avenue', 'California', 'Butte', 39.76168, -121.84047], [2020, 1, 5, 60070008, 18, 17, 'Chico-East Avenue', 'California', 'Butte', 39.76168, -121.84047], [2020, 1, 6, 60070008, 13, 12, 'Chico-East Avenue', 'California', 'Butte', 39.76168, -121.84047], [2020, 1, 7, 60070008, 26, 24, 'Chico-East Avenue', 'California', 'Butte', 39.76168, -121.84047], [2020, 1, 8, 60070008, 24, 22, 'Chico-East Avenue', 'California', 'Butte', 39.76168, -121.84047], [2020, 1, 9, 60070008, 9, 8, 'Chico-East Avenue', 'California', 'Butte', 39.76168, -121.84047], [2020, 1, 10, 60070008, 13, 12, 'Chico-East Avenue', 'California', 'Butte', 39.76168, -121.84047]]\n",
      "<class 'list'>\n"
     ]
    }
   ],
   "source": [
    "input_path = '../../Data/epa_air_quality.pickle'\n",
    "output_path = 'epa_air_quality.csv'\n",
    "convert_pickle_to_csv(input_path, output_path)"
   ]
  },
  {
   "cell_type": "code",
   "execution_count": null,
   "metadata": {},
   "outputs": [],
   "source": [
    "def filter_csv_and_save(input_path, output_path, index):\n",
    "    \"\"\"\n",
    "    Load the csv file in input_path and filter data on index,\n",
    "    and write its unique set as a pickle file on output_path.\n",
    "    \"\"\"\n",
    "    with open (input_path, 'r') as file_obj:\n",
    "        csv_reader = csv.reader(file_obj)\n",
    "        csv_reader_list = list(csv_reader)\n",
    "        #print(csv_reader_list[0:5])\n",
    "\n",
    "        output = set()\n",
    "\n",
    "        for data in csv_reader:\n",
    "            output.add(int(data[3]))\n",
    "\n",
    "        #print(output)\n",
    "\n",
    "        output_list = csv_reader_list[index]\n",
    "        #print(csv_reader_list[index])\n",
    "\n",
    "        with open(output_path, 'wb') as file_obj2:\n",
    "            pickle.dump(output_path, file_obj2)\n",
    "            #csv_writer.writerow(output_list, file_obj2)"
   ]
  },
  {
   "cell_type": "code",
   "execution_count": 56,
   "metadata": {},
   "outputs": [],
   "source": [
    "input_path = 'epa_air_quality.csv' \n",
    "output_path = 'epa_stations.pickle'\n",
    "index = 3\n",
    "filter_csv_and_save(input_path, output_path, index)"
   ]
  },
  {
   "attachments": {},
   "cell_type": "markdown",
   "metadata": {},
   "source": [
    "Final Check!"
   ]
  },
  {
   "cell_type": "code",
   "execution_count": null,
   "metadata": {},
   "outputs": [],
   "source": [
    "with open(output_path, 'rb') as input:\n",
    "    "
   ]
  },
  {
   "cell_type": "code",
   "execution_count": null,
   "metadata": {},
   "outputs": [],
   "source": []
  }
 ],
 "metadata": {
  "kernelspec": {
   "display_name": "base",
   "language": "python",
   "name": "python3"
  },
  "language_info": {
   "codemirror_mode": {
    "name": "ipython",
    "version": 3
   },
   "file_extension": ".py",
   "mimetype": "text/x-python",
   "name": "python",
   "nbconvert_exporter": "python",
   "pygments_lexer": "ipython3",
   "version": "3.13.5"
  },
  "orig_nbformat": 4
 },
 "nbformat": 4,
 "nbformat_minor": 2
}
