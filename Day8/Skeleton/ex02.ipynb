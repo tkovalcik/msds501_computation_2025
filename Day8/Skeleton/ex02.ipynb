{
 "cells": [
  {
   "cell_type": "code",
   "execution_count": 2,
   "metadata": {},
   "outputs": [],
   "source": [
    "import pickle\n",
    "import math"
   ]
  },
  {
   "cell_type": "code",
   "execution_count": 3,
   "metadata": {},
   "outputs": [],
   "source": [
    "file_path = '../../Data/epa_air_quality.pickle'\n",
    "site_id = 60070008\n",
    "aqi_range={0:\"Good\", 50:\"Moderate\", 100:\"Unhealthy\"}\n",
    "abs_tol = 50"
   ]
  },
  {
   "cell_type": "code",
   "execution_count": 6,
   "metadata": {},
   "outputs": [
    {
     "name": "stdout",
     "output_type": "stream",
     "text": [
      "[[2020, 1, 1, 60070008, 27, 25, 'Chico-East Avenue', 'California', 'Butte', 39.76168, -121.84047], [2020, 1, 2, 60070008, 22, 20, 'Chico-East Avenue', 'California', 'Butte', 39.76168, -121.84047], [2020, 1, 3, 60070008, 30, 28, 'Chico-East Avenue', 'California', 'Butte', 39.76168, -121.84047], [2020, 1, 4, 60070008, 17, 16, 'Chico-East Avenue', 'California', 'Butte', 39.76168, -121.84047], [2020, 1, 5, 60070008, 18, 17, 'Chico-East Avenue', 'California', 'Butte', 39.76168, -121.84047], [2020, 1, 6, 60070008, 13, 12, 'Chico-East Avenue', 'California', 'Butte', 39.76168, -121.84047], [2020, 1, 7, 60070008, 26, 24, 'Chico-East Avenue', 'California', 'Butte', 39.76168, -121.84047], [2020, 1, 8, 60070008, 24, 22, 'Chico-East Avenue', 'California', 'Butte', 39.76168, -121.84047], [2020, 1, 9, 60070008, 9, 8, 'Chico-East Avenue', 'California', 'Butte', 39.76168, -121.84047], [2020, 1, 10, 60070008, 13, 12, 'Chico-East Avenue', 'California', 'Butte', 39.76168, -121.84047]]\n",
      "<class 'list'>\n"
     ]
    }
   ],
   "source": [
    "with open(file_path, 'rb') as f:\n",
    "    data = pickle.load(f)\n",
    "print(data[:10])\n",
    "print(type(data))"
   ]
  },
  {
   "cell_type": "code",
   "execution_count": null,
   "metadata": {},
   "outputs": [],
   "source": [
    "def return_avg_air_quality(file_name, site_id, aqi_range, abs_tol=50):\n",
    "    \"\"\"\n",
    "    Create return_avg_air_quality(file_name, aqi_range, site_id, abs_tol)\n",
    "    which loads a pickle file called file_name and\n",
    "    returns 'The average aqi is XX, which is YY' \n",
    "    ('The average aqi is 13.7, which is Good') based on the aqi_range and abs_tol\n",
    "    for the given site_id.\n",
    "    - You can assume that aqi_range increase by 50, and use abs_tol.\n",
    "    (https://www.airnow.gov/aqi/aqi-basics/)\n",
    "    \"\"\"\n",
    "    # Load pickle file as python obj (list)\n",
    "   "
   ]
  },
  {
   "cell_type": "code",
   "execution_count": null,
   "metadata": {},
   "outputs": [],
   "source": [
    "output = return_avg_air_quality(file_path, site_id, aqi_range,  abs_tol=50)"
   ]
  },
  {
   "attachments": {},
   "cell_type": "markdown",
   "metadata": {},
   "source": [
    "Write to an output file"
   ]
  },
  {
   "cell_type": "code",
   "execution_count": null,
   "metadata": {},
   "outputs": [],
   "source": [
    "# Write to an output file\n"
   ]
  },
  {
   "cell_type": "code",
   "execution_count": null,
   "metadata": {},
   "outputs": [],
   "source": []
  },
  {
   "cell_type": "code",
   "execution_count": null,
   "metadata": {},
   "outputs": [],
   "source": []
  }
 ],
 "metadata": {
  "kernelspec": {
   "display_name": "base",
   "language": "python",
   "name": "python3"
  },
  "language_info": {
   "codemirror_mode": {
    "name": "ipython",
    "version": 3
   },
   "file_extension": ".py",
   "mimetype": "text/x-python",
   "name": "python",
   "nbconvert_exporter": "python",
   "pygments_lexer": "ipython3",
   "version": "3.13.5"
  },
  "orig_nbformat": 4
 },
 "nbformat": 4,
 "nbformat_minor": 2
}
