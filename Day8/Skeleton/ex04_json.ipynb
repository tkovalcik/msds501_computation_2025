{
 "cells": [
  {
   "cell_type": "code",
   "execution_count": 1,
   "id": "0cad9399",
   "metadata": {},
   "outputs": [],
   "source": [
    "#  National Health Interview Survey (NHIS) Adult Summary Health Statistics\n",
    "#  URL : https://catalog.data.gov/dataset/nhis-adult-summary-health-statistics-b5ce9"
   ]
  },
  {
   "cell_type": "code",
   "execution_count": null,
   "id": "b48aeff7",
   "metadata": {},
   "outputs": [],
   "source": [
    "import json\n",
    "\n",
    "def filter_by_year(file_path:str, year:int) -> dict:\n",
    "  with open (file_path, 'r') as file_obj:\n",
    "    data = json.load(file_obj)\n",
    "\n",
    "\n",
    "\n",
    "    #print(type(data))\n",
    "    #print(data[\"meta\"][\"view\"])\n",
    "\n",
    "    column_data = data[\"meta\"][\"view\"][\"columns\"]\n",
    "\n",
    "    print(column_data)\n",
    "\n",
    "    column_names = [col[\"name\"] for col in column_data]\n",
    "\n",
    "    print(column_names)\n",
    "\n",
    "    data_val = data[\"data\"]\n",
    "    print(data_val[0])\n",
    "\n",
    "    filter_data = [ val for val in data_val if int(val[-1]) == year ]\n",
    "    print(filter_data[0])\n",
    "\n",
    "\n",
    "    json_data = [\"col_names\": column_names, f\"data_{year}: filter_data\"]\n",
    "  return json_data\n",
    "    #columns = data\n",
    "\n",
    "    #return "
   ]
  },
  {
   "cell_type": "code",
   "execution_count": 31,
   "id": "64c350a2",
   "metadata": {},
   "outputs": [
    {
     "name": "stdout",
     "output_type": "stream",
     "text": [
      "[{'id': -1, 'name': 'sid', 'dataTypeName': 'meta_data', 'fieldName': ':sid', 'position': 0, 'renderTypeName': 'meta_data', 'format': {}, 'flags': ['hidden']}, {'id': -1, 'name': 'id', 'dataTypeName': 'meta_data', 'fieldName': ':id', 'position': 0, 'renderTypeName': 'meta_data', 'format': {}, 'flags': ['hidden']}, {'id': -1, 'name': 'position', 'dataTypeName': 'meta_data', 'fieldName': ':position', 'position': 0, 'renderTypeName': 'meta_data', 'format': {}, 'flags': ['hidden']}, {'id': -1, 'name': 'created_at', 'dataTypeName': 'meta_data', 'fieldName': ':created_at', 'position': 0, 'renderTypeName': 'meta_data', 'format': {}, 'flags': ['hidden']}, {'id': -1, 'name': 'created_meta', 'dataTypeName': 'meta_data', 'fieldName': ':created_meta', 'position': 0, 'renderTypeName': 'meta_data', 'format': {}, 'flags': ['hidden']}, {'id': -1, 'name': 'updated_at', 'dataTypeName': 'meta_data', 'fieldName': ':updated_at', 'position': 0, 'renderTypeName': 'meta_data', 'format': {}, 'flags': ['hidden']}, {'id': -1, 'name': 'updated_meta', 'dataTypeName': 'meta_data', 'fieldName': ':updated_meta', 'position': 0, 'renderTypeName': 'meta_data', 'format': {}, 'flags': ['hidden']}, {'id': -1, 'name': 'meta', 'dataTypeName': 'meta_data', 'fieldName': ':meta', 'position': 0, 'renderTypeName': 'meta_data', 'format': {}, 'flags': ['hidden']}, {'id': 579844927, 'name': 'Outcome (or Indicator)', 'dataTypeName': 'text', 'description': '', 'fieldName': 'outcome_or_indicator', 'position': 1, 'renderTypeName': 'text', 'tableColumnId': 140741420, 'cachedContents': {'non_null': '20140', 'largest': 'Wellness visit', 'null': '0', 'top': [{'item': 'High cholesterol', 'count': '380'}, {'item': 'Breast cancer', 'count': '380'}, {'item': 'Uninsured for at least part of the past year', 'count': '380'}, {'item': 'Doctor visit', 'count': '380'}, {'item': 'Difficulty hearing', 'count': '380'}, {'item': 'Diagnosed hypertension', 'count': '380'}, {'item': 'Private health insurance coverage at time of interview', 'count': '380'}, {'item': 'Current electronic cigarette use', 'count': '380'}, {'item': 'Regularly had feelings of depression', 'count': '380'}, {'item': 'Has a usual place of care', 'count': '380'}, {'item': 'Coronary heart disease', 'count': '380'}, {'item': 'Fair or poor health status', 'count': '380'}, {'item': 'Difficulty with self care', 'count': '380'}, {'item': 'Public health plan coverage at time of interview', 'count': '380'}, {'item': 'Uninsured at time of interview', 'count': '380'}, {'item': 'Prostate cancer', 'count': '380'}, {'item': 'Current asthma', 'count': '380'}, {'item': 'Did not take medication as prescribed to save money', 'count': '380'}, {'item': 'Counseled by a mental health professional', 'count': '380'}, {'item': 'Did not get needed mental health care due to cost', 'count': '380'}], 'smallest': 'Angina/angina pectoris', 'count': '20140', 'cardinality': '53'}, 'format': {}}, {'id': 579844962, 'name': 'Grouping category', 'dataTypeName': 'text', 'description': 'Group by category', 'fieldName': 'grouping_category', 'position': 2, 'renderTypeName': 'text', 'tableColumnId': 148059673, 'cachedContents': {'non_null': '20140', 'largest': 'Veteran Status', 'null': '0', 'top': [{'item': 'Race', 'count': '1855'}, {'item': 'Hispanic or Latino origin and race', 'count': '1590'}, {'item': 'Health insurance coverage: 65 and over', 'count': '1590'}, {'item': 'Employment status', 'count': '1590'}, {'item': 'Marital status', 'count': '1325'}, {'item': 'Health insurance coverage: Under 65', 'count': '1060'}, {'item': 'Age groups with 75+', 'count': '1060'}, {'item': 'Urbanicity', 'count': '1060'}, {'item': 'Social vulnerability', 'count': '1060'}, {'item': 'Region', 'count': '1060'}, {'item': 'Education', 'count': '1060'}, {'item': 'Age groups with 65+', 'count': '1060'}, {'item': 'Sexual orientation', 'count': '795'}, {'item': 'Metropolitan statistical area status', 'count': '795'}, {'item': 'Family income', 'count': '636'}, {'item': 'Disability status', 'count': '530'}, {'item': 'Nativity', 'count': '530'}, {'item': 'Sex', 'count': '530'}, {'item': 'Veteran Status', 'count': '530'}, {'item': 'Total', 'count': '265'}], 'smallest': 'Age groups with 65+', 'count': '20140', 'cardinality': '21'}, 'format': {}}, {'id': 579844929, 'name': 'Group', 'dataTypeName': 'text', 'description': '', 'fieldName': 'group', 'position': 3, 'renderTypeName': 'text', 'tableColumnId': 140741421, 'cachedContents': {'non_null': '20140', 'largest': 'Without disability', 'null': '0', 'top': [{'item': 'Uninsured', 'count': '530'}, {'item': 'Private', 'count': '530'}, {'item': 'Other coverage', 'count': '530'}, {'item': 'Employed', 'count': '265'}, {'item': '18-44 years', 'count': '265'}, {'item': '50-64 years', 'count': '265'}, {'item': '18-34 years', 'count': '265'}, {'item': '65 years and over', 'count': '265'}, {'item': '75 years and over', 'count': '265'}, {'item': '35-49 years', 'count': '265'}, {'item': '45-64 years', 'count': '265'}, {'item': 'American Indian or Alaska Native only', 'count': '265'}, {'item': 'Asian only', 'count': '265'}, {'item': 'Bisexual', 'count': '265'}, {'item': 'Black only', 'count': '265'}, {'item': 'Black and White', 'count': '265'}, {'item': 'Black only, non-Hispanic', 'count': '265'}, {'item': 'College degree or higher', 'count': '265'}, {'item': 'Divorced or separated', 'count': '265'}, {'item': '65-74 years', 'count': '265'}], 'smallest': '100% to less than 200% FPL', 'count': '20140', 'cardinality': '77'}, 'format': {}}, {'id': 579844931, 'name': 'Percentage', 'dataTypeName': 'number', 'description': '', 'fieldName': 'percentage', 'position': 4, 'renderTypeName': 'number', 'tableColumnId': 140741422, 'cachedContents': {'non_null': '20140', 'largest': '999', 'null': '0', 'top': [{'item': '999', 'count': '551'}, {'item': '777', 'count': '304'}, {'item': '555', 'count': '270'}, {'item': '888', 'count': '132'}, {'item': '3.5', 'count': '120'}, {'item': '4.7', 'count': '119'}, {'item': '3.6', 'count': '118'}, {'item': '1.7', 'count': '116'}, {'item': '4.4', 'count': '114'}, {'item': '4.6', 'count': '111'}, {'item': '4', 'count': '106'}, {'item': '3.4', 'count': '105'}, {'item': '4.1', 'count': '103'}, {'item': '3.7', 'count': '102'}, {'item': '5.2', 'count': '102'}, {'item': '4.5', 'count': '101'}, {'item': '4.9', 'count': '101'}, {'item': '4.2', 'count': '100'}, {'item': '3.2', 'count': '100'}, {'item': '5.1', 'count': '100'}], 'smallest': '0', 'count': '20140', 'cardinality': '978'}, 'format': {}}, {'id': 579844934, 'name': 'Confidence Interval', 'dataTypeName': 'text', 'description': '', 'fieldName': 'confidence_interval', 'position': 5, 'renderTypeName': 'text', 'tableColumnId': 140741425, 'cachedContents': {'non_null': '18883', 'largest': '99.9,100.0', 'null': '1257', 'top': [{'item': '3.1, 4.1', 'count': '14'}, {'item': '1.6, 2.1', 'count': '13'}, {'item': '1.5, 2.0', 'count': '12'}, {'item': '0.8,  1.2', 'count': '11'}, {'item': '4.8, 5.6', 'count': '11'}, {'item': '3.9, 5.0', 'count': '10'}, {'item': '0.6, 1.1', 'count': '10'}, {'item': '2.8, 4.6', 'count': '10'}, {'item': '4.8, 5.7', 'count': '10'}, {'item': '1.5,  2.0', 'count': '10'}, {'item': '1.5, 2.1', 'count': '10'}, {'item': '4.0, 5.0', 'count': '10'}, {'item': '4.2, 4.9', 'count': '10'}, {'item': '3.1, 3.8', 'count': '9'}, {'item': '1.0, 1.9', 'count': '9'}, {'item': '0.4, 0.8', 'count': '9'}, {'item': '0.9, 1.6', 'count': '9'}, {'item': '3.2, 3.8', 'count': '9'}, {'item': '2.7,  3.4', 'count': '9'}, {'item': '1.0,  1.7', 'count': '9'}], 'smallest': '0.0, 0.0', 'count': '20140', 'cardinality': '11682'}, 'format': {}}, {'id': 579844936, 'name': 'Title', 'dataTypeName': 'text', 'description': '', 'fieldName': 'title', 'position': 6, 'renderTypeName': 'text', 'tableColumnId': 140741423, 'cachedContents': {'non_null': '20140', 'largest': 'Percentage of taking prescription medication for feelings of worry, nervousness, or anxiety for adults aged 18 and over (95% confidence intervals), United States', 'null': '0', 'top': [{'item': 'Percentage of adults aged 18 and over who did not get needed medical care due to cost in the past 12 months (95% confidence intervals), United States', 'count': '380'}, {'item': 'Percentage of adults aged 18 and over who did not get needed mental health care due to cost in the past 12 months (95% confidence intervals), United States', 'count': '380'}, {'item': 'Percentage of adults aged 18 and over who did not take medication as prescribed to save money in the past 12 months (95% confidence intervals), United States', 'count': '380'}, {'item': 'Percentage of angina for adults aged 18 and over (95% confidence intervals), United States', 'count': '380'}, {'item': 'Percentage of any type of cancer for adults aged 18 and over (95% confidence intervals), United States', 'count': '380'}, {'item': 'Percentage of arthritis diagnosis for adults aged 18 and over (95% confidence intervals), United States', 'count': '380'}, {'item': 'Percentage of asthma episode in the past 12 months for adults aged 18 and over (95% confidence intervals), United States', 'count': '380'}, {'item': 'Percentage of being uninsured at the time of interview for adults aged 18-64 (95% confidence intervals), United States', 'count': '380'}, {'item': 'Percentage of being uninsured for at least part of the past year for adults aged 18-64 (95% confidence intervals), United States', 'count': '380'}, {'item': 'Percentage of being uninsured for more than one year for adults aged 18-64 (95% confidence intervals), United States', 'count': '380'}, {'item': 'Percentage of blood pressure check in the past 12 months for adults aged 18 and over (95% confidence intervals), United States', 'count': '380'}, {'item': 'Percentage of breast cancer for adults aged 18 and over (95% confidence intervals), United States', 'count': '380'}, {'item': 'Percentage of cervical cancer for women aged 18 and over (95% confidence intervals), United States', 'count': '380'}, {'item': 'Percentage of COPD, emphysema, or chronic bronchitis for adults aged 18 and over (95% confidence intervals), United States', 'count': '380'}, {'item': 'Percentage of coronary heart disease for adults aged 18 and over (95% confidence intervals), United States', 'count': '380'}, {'item': 'Percentage of current asthma for adults aged 18 and over (95% confidence intervals), United States', 'count': '380'}, {'item': 'Percentage of current cigarette smoking for adults aged 18 and over (95% confidence intervals), United States', 'count': '380'}, {'item': 'Percentage of current electronic cigarette use for adults aged 18 and over (95% confidence intervals), United States', 'count': '380'}, {'item': 'Percentage of diagnosed diabetes for adults aged 18 and over (95% confidence intervals), United States', 'count': '380'}, {'item': 'Percentage of adults aged 18 and over who delayed getting medical care due to cost in past 12 months (95% confidence intervals), United States', 'count': '380'}], 'smallest': 'Percentage of adults aged 18 and over who delayed getting medical care due to cost in past 12 months (95% confidence intervals), United States', 'count': '20140', 'cardinality': '54'}, 'format': {}}, {'id': 579844938, 'name': 'Description', 'dataTypeName': 'text', 'description': '', 'fieldName': 'description', 'position': 7, 'renderTypeName': 'text', 'tableColumnId': 140741424, 'cachedContents': {'non_null': '20140', 'largest': 'Respondents who reported taking prescribed medicine in the past 12 months were asked in separate questions if during the past 12 months any of the following were true: they skipped medication doses to save money, they took less medication to save money, they delayed filling a prescription to save money.', 'null': '0', 'top': [{'item': 'Respondents were asked if they had ever been told by a doctor or other health professional that they had a cancer or malignancy of any kind. They were then asked to name the kind of cancer they had.', 'count': '1140'}, {'item': 'A person was defined as uninsured if he or she did not have any private health insurance, Medicare, Medicaid, Children’s Health Insurance Program (CHIP), state-sponsored or other government-sponsored health plan, or military plan. A person was also defined as uninsured if he or she had only Indian Health Service coverage or had only a private plan that paid for one type of service, such as accidents or dental care. \"Year\" is defined as the 12 months prior to interview.', 'count': '602'}, {'item': 'Based on questions that ascertain among those with a doctor visit in the past 12 months, \"Was this a wellness visit, physical, or general purpose check-up ?\" or a response of \"within the past year\" to the question \"About how long has it been since you last saw a doctor or other health professional for a wellness visit, physical, or general purpose check-up?\"', 'count': '380'}, {'item': 'Calculated from information that respondents supplied in response to survey questions regarding height and weight. For both men and women, obesity is indicated by body mass index (BMI) of 30.0 or higher. Note that self-reported height and weight may differ from actual measurements.', 'count': '380'}, {'item': 'Disability is defined by the reported level of difficulty (no difficulty, some difficulty, a lot of difficulty, or cannot do at all) in six functioning domains: seeing (even if wearing glasses), hearing (even if wearing hearing aids), mobility (walking or climbing stairs), communication (understanding or being understood by others), cognition (remembering or concentrating), and self-care (such as washing all over or dressing). Adults who responded \"a lot of difficulty\" or \"cannot do at all\" to at least one question were considered to have a disability.', 'count': '380'}, {'item': 'Exchange-based coverage is a private health insurance plan purchased through the Health Insurance Marketplace or state-based exchanges that were established as part of the Affordable Care Act of 2010 (P.L. 111-148, P.L. 111-152).', 'count': '380'}, {'item': 'In separate questions, respondents were asked how often they feel worried, nervous, or anxious and then, thinking about the last time they felt that way, to describe the level of those feelings.  Respondents who reported a) feeling worried, nervous, or anxious daily and described the level of those feelings as \"somewhere in between a little and a lot\" or \"a lot\" or b) feeling worried, nervous, or anxious weekly and described the level of those feelings as \"a lot\" were classified as regularly having feelings of worry, nervousness, or anxiety.', 'count': '380'}, {'item': 'Respondents were asked how long it had been since they last saw a doctor or other health care professional about their health.', 'count': '380'}, {'item': 'In separate questions, respondents were asked if there is a place that they usually go if they are sick and need health care, and if so (or if more than one place), to indicate the kind of place. Respondents who indicated their place of usual care was a hospital emergency room were not classified as having a usual place of care.', 'count': '380'}, {'item': 'In separate questions, respondents were asked if they had ever been told by a doctor or other health professional that they had high cholesterol. Respondents who answered affirmatively were asked in separate questions if they had been told by a doctor or other health professional that they had high cholesterol during the past 12 months, and if they were taking prescribed medicine to help lower their cholesterol. Respondents had to have been taking those medications or had high cholesterol during the past 12 months to be classified as having high cholesterol.', 'count': '380'}, {'item': 'In separate questions, respondents were asked if they had ever smoked at least 100 cigarettes in their entire life, and if so, do they now smoke every day, some days, or not at all. Respondents who smoke every day or some days were classified as current cigarette smokers.', 'count': '380'}, {'item': 'In separate questions, respondents were asked if they had used an e-cigarette or other electronic vaping product, even just one time in their entire life, and if so, do they now use those products every day, some days, or not at all. Respondents who use e-cigarettes or electronic vaping products every day or some days are classified as current electronic cigarette users.', 'count': '380'}, {'item': 'Private health insurance coverage includes any comprehensive private insurance plan (including health maintenance and preferred provider organizations). These plans include those obtained through an employer, purchased directly, purchased through local or community programs, or purchased through the Health Insurance Marketplace or a state-based exchange. Private coverage excludes plans that pay for only one type of service, such as accidents or dental care. A small number of persons were covered by both public and private plans and were included in both categories.', 'count': '380'}, {'item': 'Public health plan coverage includes Medicaid, CHIP, state-sponsored or other government-sponsored health plan, Medicare, and military plans. A small number of persons were covered by both public and private plans and were included in both categories.', 'count': '380'}, {'item': 'Respondents were asked how long it had been since they last had a dental examination or cleaning.', 'count': '380'}, {'item': 'In separate questions, respondents were asked how often they feel depressed and then, thinking about the last time they felt that way, to describe the level of those feelings.   Respondents who reported a) feeling depressed daily and described the level of those feelings as \"somewhere in between a little and a lot\" or \"a lot\" or b) feeling depressed weekly and described the level of those feelings as \"a lot\" were classified as regularly having feelings of depression.', 'count': '380'}, {'item': 'Respondents were asked how many times during the past 12 months had they gone to a hospital emergency room about their health. This includes emergency room visits that resulted in a hospital admission.', 'count': '380'}, {'item': 'Respondents were asked how many times they went to an urgent care center or a clinic in a drug store or grocery store about their health during the past 12 months.', 'count': '380'}, {'item': 'Respondents were asked how often they had pain in the past three months. Respondents who reported having pain on most days or every day were classified as regularly experiencing chronic pain.', 'count': '380'}, {'item': 'A person was defined as uninsured if he or she did not have any private health insurance, Medicare, Medicaid, Children’s Health Insurance Program (CHIP), state-sponsored or other government-sponsored health plan, or military plan. A person was also defined as uninsured if he or she had only Indian Health Service coverage or had only a private plan that paid for one type of service, such as accidents or dental care.', 'count': '380'}], 'smallest': 'A person was defined as uninsured if he or she did not have any private health insurance, Medicare, Medicaid, Children’s Health Insurance Program (CHIP), state-sponsored or other government-sponsored health plan, or military plan. A person was also defined as uninsured if he or she had only Indian Health Service coverage or had only a private plan that paid for one type of service, such as accidents or dental care.', 'count': '20140', 'cardinality': '52'}, 'format': {}}, {'id': 579844940, 'name': 'Year', 'dataTypeName': 'number', 'description': '', 'fieldName': 'year', 'position': 8, 'renderTypeName': 'number', 'tableColumnId': 140741426, 'cachedContents': {'non_null': '20140', 'largest': '2023', 'null': '0', 'top': [{'item': '2019', 'count': '4028'}, {'item': '2020', 'count': '4028'}, {'item': '2021', 'count': '4028'}, {'item': '2022', 'count': '4028'}, {'item': '2023', 'count': '4028'}], 'smallest': '2019', 'count': '20140', 'cardinality': '5'}, 'format': {'noCommas': 'true'}}]\n",
      "['sid', 'id', 'position', 'created_at', 'created_meta', 'updated_at', 'updated_meta', 'meta', 'Outcome (or Indicator)', 'Grouping category', 'Group', 'Percentage', 'Confidence Interval', 'Title', 'Description', 'Year']\n",
      "['row-e9ap-czku-5niq', '00000000-0000-0000-0C90-6474AD7683DE', 0, 1721675081, None, 1721675081, None, '{ }', 'Coronary heart disease', 'Total', 'Total', '4.6', '4.3,  4.9', 'Percentage of coronary heart disease for adults aged 18 and over (95% confidence intervals), United States', 'Respondents were asked if they had ever been told by a doctor or other health professional that they had coronary heart disease.', '2019']\n",
      "['row-e9ap-czku-5niq', '00000000-0000-0000-0C90-6474AD7683DE', 0, 1721675081, None, 1721675081, None, '{ }', 'Coronary heart disease', 'Total', 'Total', '4.6', '4.3,  4.9', 'Percentage of coronary heart disease for adults aged 18 and over (95% confidence intervals), United States', 'Respondents were asked if they had ever been told by a doctor or other health professional that they had coronary heart disease.', '2019']\n"
     ]
    }
   ],
   "source": [
    "if __name__ == \"__main__\":\n",
    "    year = 2019\n",
    "    file_path = \"../../Data/nhis.json\" \n",
    "    result = filter_by_year(file_path, year)\n",
    "\n",
    "    # Writing JSON\n",
    "    with open(f\"data_{year}.json\", \"w\") as f:\n",
    "        json.dump(result, f, indent=4)"
   ]
  },
  {
   "cell_type": "code",
   "execution_count": null,
   "id": "4572b4a5",
   "metadata": {},
   "outputs": [],
   "source": []
  },
  {
   "cell_type": "code",
   "execution_count": null,
   "id": "45d2683e",
   "metadata": {},
   "outputs": [],
   "source": []
  }
 ],
 "metadata": {
  "kernelspec": {
   "display_name": "base",
   "language": "python",
   "name": "python3"
  },
  "language_info": {
   "codemirror_mode": {
    "name": "ipython",
    "version": 3
   },
   "file_extension": ".py",
   "mimetype": "text/x-python",
   "name": "python",
   "nbconvert_exporter": "python",
   "pygments_lexer": "ipython3",
   "version": "3.13.5"
  }
 },
 "nbformat": 4,
 "nbformat_minor": 5
}
