{
 "cells": [
  {
   "cell_type": "markdown",
   "id": "610bcba6",
   "metadata": {},
   "source": [
    "\n",
    "- Using ```input(\"message\")``` take a user input with a message \"`Enter a positive number (0 to stop): `\"\n",
    "- If it is a prime number, print \"`user_input is a prime number`\"\n",
    "- If it is not a prime number, print \"`user_input is not a prime number`\"\n",
    "- Repeat this until the user enters 0\n",
    "- Make sure the user input is in an expected type\n"
   ]
  },
  {
   "cell_type": "code",
   "execution_count": null,
   "id": "87335bab",
   "metadata": {},
   "outputs": [
    {
     "ename": "NameError",
     "evalue": "name 'isprime' is not defined",
     "output_type": "error",
     "traceback": [
      "\u001b[0;31m---------------------------------------------------------------------------\u001b[0m",
      "\u001b[0;31mNameError\u001b[0m                                 Traceback (most recent call last)",
      "Cell \u001b[0;32mIn[2], line 4\u001b[0m\n\u001b[1;32m      1\u001b[0m user_input \u001b[38;5;241m=\u001b[39m \u001b[38;5;28minput\u001b[39m(\u001b[38;5;124m\"\u001b[39m\u001b[38;5;124mEnter a positive number (0 to stop): \u001b[39m\u001b[38;5;124m\"\u001b[39m)\n\u001b[1;32m      3\u001b[0m \u001b[38;5;28;01mwhile\u001b[39;00m user_input \u001b[38;5;241m!=\u001b[39m \u001b[38;5;241m0\u001b[39m:\n\u001b[0;32m----> 4\u001b[0m     \u001b[38;5;28;01mif\u001b[39;00m isprime(user_input):\n\u001b[1;32m      5\u001b[0m         \u001b[38;5;28mprint\u001b[39m(\u001b[38;5;124m\"\u001b[39m\u001b[38;5;124muser_input is a prime number\u001b[39m\u001b[38;5;124m\"\u001b[39m)\n\u001b[1;32m      6\u001b[0m     \u001b[38;5;28;01melse\u001b[39;00m:\n",
      "\u001b[0;31mNameError\u001b[0m: name 'isprime' is not defined"
     ]
    }
   ],
   "source": [
    "def IsPrime(number)\n",
    "    if number <= 1:\n",
    "        return False\n",
    "    elif \n",
    "\n",
    "\n",
    "user_input = input(\"Enter a positive number (0 to stop): \")\n",
    "\n",
    "while user_input != 0:\n",
    "    if IsPrime(user_input):\n",
    "        print(\"user_input is a prime number\")\n",
    "    else:\n",
    "        print(\"user_input is not a prime number\")"
   ]
  },
  {
   "cell_type": "code",
   "execution_count": null,
   "id": "1f16c75d",
   "metadata": {},
   "outputs": [],
   "source": []
  }
 ],
 "metadata": {
  "kernelspec": {
   "display_name": "base",
   "language": "python",
   "name": "python3"
  },
  "language_info": {
   "codemirror_mode": {
    "name": "ipython",
    "version": 3
   },
   "file_extension": ".py",
   "mimetype": "text/x-python",
   "name": "python",
   "nbconvert_exporter": "python",
   "pygments_lexer": "ipython3",
   "version": "3.13.5"
  }
 },
 "nbformat": 4,
 "nbformat_minor": 5
}
