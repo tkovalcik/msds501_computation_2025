{
 "cells": [
  {
   "cell_type": "code",
   "execution_count": 3,
   "id": "d0a6c956",
   "metadata": {},
   "outputs": [
    {
     "ename": "SyntaxError",
     "evalue": "invalid syntax (1693772751.py, line 12)",
     "output_type": "error",
     "traceback": [
      "\u001b[0;36m  Cell \u001b[0;32mIn[3], line 12\u001b[0;36m\u001b[0m\n\u001b[0;31m    else:\u001b[0m\n\u001b[0m    ^\u001b[0m\n\u001b[0;31mSyntaxError\u001b[0m\u001b[0;31m:\u001b[0m invalid syntax\n"
     ]
    }
   ],
   "source": [
    "def twoSum(numbers, target):\n",
    "    index1 = 0\n",
    "    index2 = len(numbers)\n",
    "\n",
    "    for num in numbers:\n",
    "        if numbers[index2] > target:\n",
    "            index2 -= index2\n",
    "        else:\n",
    "            if (numbers[index1] + numbers[index2]) == target:\n",
    "                return [index1, index2]\n",
    "        \n",
    "        else:\n",
    "            index1 += index1\n",
    "            "
   ]
  },
  {
   "cell_type": "code",
   "execution_count": 4,
   "id": "79b770cc",
   "metadata": {},
   "outputs": [
    {
     "ename": "NameError",
     "evalue": "name 'twoSum' is not defined",
     "output_type": "error",
     "traceback": [
      "\u001b[0;31m---------------------------------------------------------------------------\u001b[0m",
      "\u001b[0;31mNameError\u001b[0m                                 Traceback (most recent call last)",
      "Cell \u001b[0;32mIn[4], line 3\u001b[0m\n\u001b[1;32m      1\u001b[0m numbers \u001b[38;5;241m=\u001b[39m [\u001b[38;5;241m1\u001b[39m, \u001b[38;5;241m2\u001b[39m, \u001b[38;5;241m4\u001b[39m, \u001b[38;5;241m5\u001b[39m, \u001b[38;5;241m7\u001b[39m]\n\u001b[1;32m      2\u001b[0m target \u001b[38;5;241m=\u001b[39m \u001b[38;5;241m9\u001b[39m\n\u001b[0;32m----> 3\u001b[0m twoSum(numbers, target)\n",
      "\u001b[0;31mNameError\u001b[0m: name 'twoSum' is not defined"
     ]
    }
   ],
   "source": [
    "numbers = [1, 2, 4, 5, 7]\n",
    "target = 9\n",
    "twoSum(numbers, target) # returns [2, 5]"
   ]
  },
  {
   "cell_type": "code",
   "execution_count": null,
   "id": "7c5bbe3e",
   "metadata": {},
   "outputs": [],
   "source": []
  }
 ],
 "metadata": {
  "kernelspec": {
   "display_name": "base",
   "language": "python",
   "name": "python3"
  },
  "language_info": {
   "codemirror_mode": {
    "name": "ipython",
    "version": 3
   },
   "file_extension": ".py",
   "mimetype": "text/x-python",
   "name": "python",
   "nbconvert_exporter": "python",
   "pygments_lexer": "ipython3",
   "version": "3.13.5"
  }
 },
 "nbformat": 4,
 "nbformat_minor": 5
}
