{
 "cells": [
  {
   "cell_type": "code",
   "execution_count": 2,
   "id": "19e5886f",
   "metadata": {},
   "outputs": [],
   "source": [
    "def sliding_window(arr, k): # k : max subarray size\n",
    "    max = 0\n",
    "    i = 0\n",
    "    while(len(arr)>=(k+i)):\n",
    "        \n",
    "        current_sum = sum(arr[i:k+i])\n",
    "\n",
    "\n",
    "        if current_sum > max:\n",
    "            max = current_sum\n",
    "\n",
    "        i += 1\n",
    "\n",
    "    return max/k"
   ]
  },
  {
   "cell_type": "code",
   "execution_count": 9,
   "id": "6f63e934",
   "metadata": {},
   "outputs": [
    {
     "data": {
      "text/plain": [
       "6.5"
      ]
     },
     "execution_count": 9,
     "metadata": {},
     "output_type": "execute_result"
    }
   ],
   "source": [
    "sliding_window([1,2,3,4,5,6,7],2)"
   ]
  },
  {
   "cell_type": "code",
   "execution_count": null,
   "id": "d8f4aa6d",
   "metadata": {},
   "outputs": [],
   "source": []
  }
 ],
 "metadata": {
  "kernelspec": {
   "display_name": "base",
   "language": "python",
   "name": "python3"
  },
  "language_info": {
   "codemirror_mode": {
    "name": "ipython",
    "version": 3
   },
   "file_extension": ".py",
   "mimetype": "text/x-python",
   "name": "python",
   "nbconvert_exporter": "python",
   "pygments_lexer": "ipython3",
   "version": "3.13.5"
  }
 },
 "nbformat": 4,
 "nbformat_minor": 5
}
