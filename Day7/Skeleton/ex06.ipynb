{
 "cells": [
  {
   "cell_type": "code",
   "execution_count": null,
   "id": "ebea8006",
   "metadata": {},
   "outputs": [],
   "source": [
    "class FileReader:\n",
    "    def __init__(self, file_path):\n",
    "       self.file_path = file_path\n",
    "\n",
    "       self.load()\n",
    "       self.print()\n",
    "       self.check_file_format()\n",
    "    \n",
    "    def load(self):\n",
    "        with open(self.file_path, mode='r') as f:\n",
    "            self.lines = f.readlines()\n",
    "            self.line_count = len(self.lines)\n",
    "            \n",
    "\n",
    "\n",
    "    def print(self, n = 10):\n",
    "        \n",
    "        for line in self.lines[:n]:\n",
    "            print(line.strip())\n",
    "\n",
    "\n",
    "    def check_file_format(self):\n",
    "        file_extension = self.file_path.split('.')[-1]\n",
    "        if file_extension == 'csv':\n",
    "            self.file_format = 'csv'\n",
    "        elif file_extension == 'tsv':\n",
    "            self.file_format = 'tsv'\n",
    "        elif file_extension == 'json':\n",
    "            self.file_format = 'json'\n",
    "        else:\n",
    "            self.file_format = 'unknown'\n",
    "\n",
    "    def num_lines_start_with(self, char_val): #using temporary variables not attributes. attributes always start w/ 'self.'\n",
    "        counter = 0\n",
    "        for line in self.lines:\n",
    "            if line[0] == char_val:\n",
    "                counter +=1\n",
    "        return counter"
   ]
  },
  {
   "cell_type": "code",
   "execution_count": 36,
   "id": "501ee6d2",
   "metadata": {},
   "outputs": [
    {
     "name": "stdout",
     "output_type": "stream",
     "text": [
      "AD\tAndorra\t42.5\t1.5\n",
      "AE\tUnited Arab Emirates\t24\t54\n",
      "AF\tAfghanistan\t33\t65\n",
      "AG\tAntigua and Barbuda\t17.05\t-61.8\n",
      "AI\tAnguilla\t18.25\t-63.17\n",
      "AL\tAlbania\t41\t20\n",
      "AM\tArmenia\t40\t45\n",
      "AN\tNetherlands Antilles\t12.25\t-68.75\n",
      "AO\tAngola\t-12.5\t18.5\n",
      "AP\tAsia/Pacific Region\t35\t105\n"
     ]
    },
    {
     "data": {
      "text/plain": [
       "74"
      ]
     },
     "execution_count": 36,
     "metadata": {},
     "output_type": "execute_result"
    }
   ],
   "source": [
    "file_reader = FileReader(\"../../Data/countries.tsv\")\n",
    "file_reader.file_format\n",
    "file_reader.line_count"
   ]
  },
  {
   "cell_type": "code",
   "execution_count": 37,
   "id": "ef8a9b8b",
   "metadata": {},
   "outputs": [
    {
     "name": "stdout",
     "output_type": "stream",
     "text": [
      "AD\tAndorra\t42.5\t1.5\n",
      "AE\tUnited Arab Emirates\t24\t54\n",
      "AF\tAfghanistan\t33\t65\n",
      "AG\tAntigua and Barbuda\t17.05\t-61.8\n",
      "AI\tAnguilla\t18.25\t-63.17\n",
      "AL\tAlbania\t41\t20\n",
      "AM\tArmenia\t40\t45\n",
      "AN\tNetherlands Antilles\t12.25\t-68.75\n",
      "AO\tAngola\t-12.5\t18.5\n",
      "AP\tAsia/Pacific Region\t35\t105\n"
     ]
    }
   ],
   "source": [
    "file_reader.print()"
   ]
  },
  {
   "cell_type": "code",
   "execution_count": 40,
   "id": "667e9bb7",
   "metadata": {},
   "outputs": [
    {
     "name": "stdout",
     "output_type": "stream",
     "text": [
      "AD\tAndorra\t42.5\t1.5\n",
      "AE\tUnited Arab Emirates\t24\t54\n",
      "AF\tAfghanistan\t33\t65\n",
      "AG\tAntigua and Barbuda\t17.05\t-61.8\n",
      "AI\tAnguilla\t18.25\t-63.17\n"
     ]
    }
   ],
   "source": [
    "file_reader.print(5)"
   ]
  },
  {
   "cell_type": "code",
   "execution_count": 63,
   "id": "87562141",
   "metadata": {},
   "outputs": [],
   "source": [
    "class CSVReader(FileReader):\n",
    "    def __init__(self, file_path, header=False):\n",
    "        super().__init__(file_path)\n",
    "        self.header = header\n",
    "\n",
    "        if self.file_format not in ['csv', 'tsv']:\n",
    "            raise TypeError(f\"only .csv or .tsv supported : check {self.file_path} \")\n",
    "\n",
    "        if header == True:\n",
    "            self.header_line = self.lines[0]\n",
    "\n",
    "    def split(self):\n",
    "        if self.file_format == \"csv\":\n",
    "            self.splitted_lines = [ line.strip().split(',') for line in self.lines]\n",
    "\n",
    "        elif self.file_format == \"tsv\":\n",
    "            self.splitted_lines = [ line.strip().split('\\t') for line in self.lines]\n",
    "\n",
    "        return self.splitted_lines\n",
    "\n",
    "    def print(self, n=10):\n",
    "        if self.header == True:\n",
    "            print(self.splitted_lines[1:n])\n",
    "        else:\n",
    "            print(self.splitted_lines[:n])\n",
    "\n",
    "    "
   ]
  },
  {
   "cell_type": "code",
   "execution_count": 64,
   "id": "2e2279fd",
   "metadata": {},
   "outputs": [
    {
     "ename": "AttributeError",
     "evalue": "'CSVReader' object has no attribute 'header'",
     "output_type": "error",
     "traceback": [
      "\u001b[0;31m---------------------------------------------------------------------------\u001b[0m",
      "\u001b[0;31mAttributeError\u001b[0m                            Traceback (most recent call last)",
      "Cell \u001b[0;32mIn[64], line 1\u001b[0m\n\u001b[0;32m----> 1\u001b[0m csv_file \u001b[38;5;241m=\u001b[39m CSVReader(\u001b[38;5;124m\"\u001b[39m\u001b[38;5;124m../../Data/countries.tsv\u001b[39m\u001b[38;5;124m\"\u001b[39m)\n",
      "Cell \u001b[0;32mIn[63], line 3\u001b[0m, in \u001b[0;36mCSVReader.__init__\u001b[0;34m(self, file_path, header)\u001b[0m\n\u001b[1;32m      2\u001b[0m \u001b[38;5;28;01mdef\u001b[39;00m\u001b[38;5;250m \u001b[39m\u001b[38;5;21m__init__\u001b[39m(\u001b[38;5;28mself\u001b[39m, file_path, header\u001b[38;5;241m=\u001b[39m\u001b[38;5;28;01mFalse\u001b[39;00m):\n\u001b[0;32m----> 3\u001b[0m     \u001b[38;5;28msuper\u001b[39m()\u001b[38;5;241m.\u001b[39m\u001b[38;5;21m__init__\u001b[39m(file_path)\n\u001b[1;32m      4\u001b[0m     \u001b[38;5;28mself\u001b[39m\u001b[38;5;241m.\u001b[39mheader \u001b[38;5;241m=\u001b[39m header\n\u001b[1;32m      6\u001b[0m     \u001b[38;5;28;01mif\u001b[39;00m \u001b[38;5;28mself\u001b[39m\u001b[38;5;241m.\u001b[39mfile_format \u001b[38;5;129;01mnot\u001b[39;00m \u001b[38;5;129;01min\u001b[39;00m [\u001b[38;5;124m'\u001b[39m\u001b[38;5;124mcsv\u001b[39m\u001b[38;5;124m'\u001b[39m, \u001b[38;5;124m'\u001b[39m\u001b[38;5;124mtsv\u001b[39m\u001b[38;5;124m'\u001b[39m]:\n",
      "Cell \u001b[0;32mIn[35], line 6\u001b[0m, in \u001b[0;36mFileReader.__init__\u001b[0;34m(self, file_path)\u001b[0m\n\u001b[1;32m      3\u001b[0m \u001b[38;5;28mself\u001b[39m\u001b[38;5;241m.\u001b[39mfile_path \u001b[38;5;241m=\u001b[39m file_path\n\u001b[1;32m      5\u001b[0m \u001b[38;5;28mself\u001b[39m\u001b[38;5;241m.\u001b[39mload()\n\u001b[0;32m----> 6\u001b[0m \u001b[38;5;28mself\u001b[39m\u001b[38;5;241m.\u001b[39mprint()\n\u001b[1;32m      7\u001b[0m \u001b[38;5;28mself\u001b[39m\u001b[38;5;241m.\u001b[39mcheck_file_format()\n",
      "Cell \u001b[0;32mIn[63], line 22\u001b[0m, in \u001b[0;36mCSVReader.print\u001b[0;34m(self, n)\u001b[0m\n\u001b[1;32m     21\u001b[0m \u001b[38;5;28;01mdef\u001b[39;00m\u001b[38;5;250m \u001b[39m\u001b[38;5;21mprint\u001b[39m(\u001b[38;5;28mself\u001b[39m, n\u001b[38;5;241m=\u001b[39m\u001b[38;5;241m10\u001b[39m):\n\u001b[0;32m---> 22\u001b[0m     \u001b[38;5;28;01mif\u001b[39;00m \u001b[38;5;28mself\u001b[39m\u001b[38;5;241m.\u001b[39mheader \u001b[38;5;241m==\u001b[39m \u001b[38;5;28;01mTrue\u001b[39;00m:\n\u001b[1;32m     23\u001b[0m         \u001b[38;5;28mprint\u001b[39m(\u001b[38;5;28mself\u001b[39m\u001b[38;5;241m.\u001b[39msplitted_lines[\u001b[38;5;241m1\u001b[39m:n])\n\u001b[1;32m     24\u001b[0m     \u001b[38;5;28;01melse\u001b[39;00m:\n",
      "\u001b[0;31mAttributeError\u001b[0m: 'CSVReader' object has no attribute 'header'"
     ]
    }
   ],
   "source": [
    "csv_file = CSVReader(\"../../Data/countries.tsv\")"
   ]
  },
  {
   "cell_type": "code",
   "execution_count": 59,
   "id": "b9823ec6",
   "metadata": {},
   "outputs": [
    {
     "name": "stdout",
     "output_type": "stream",
     "text": [
      "AD\tAndorra\t42.5\t1.5\n",
      "AE\tUnited Arab Emirates\t24\t54\n",
      "AF\tAfghanistan\t33\t65\n",
      "AG\tAntigua and Barbuda\t17.05\t-61.8\n",
      "AI\tAnguilla\t18.25\t-63.17\n",
      "AL\tAlbania\t41\t20\n",
      "AM\tArmenia\t40\t45\n",
      "AN\tNetherlands Antilles\t12.25\t-68.75\n",
      "AO\tAngola\t-12.5\t18.5\n",
      "AP\tAsia/Pacific Region\t35\t105\n"
     ]
    }
   ],
   "source": [
    "# csv_file.split()\n",
    "#csv_file.line_count\n",
    "csv_file.print()"
   ]
  },
  {
   "cell_type": "code",
   "execution_count": 54,
   "id": "5f98dddb",
   "metadata": {},
   "outputs": [
    {
     "name": "stdout",
     "output_type": "stream",
     "text": [
      "AD\tAndorra\t42.5\t1.5\n",
      "AE\tUnited Arab Emirates\t24\t54\n"
     ]
    }
   ],
   "source": [
    "csv_file.print(2)"
   ]
  },
  {
   "cell_type": "code",
   "execution_count": 21,
   "id": "2a1cd841",
   "metadata": {},
   "outputs": [
    {
     "name": "stdout",
     "output_type": "stream",
     "text": [
      "start_idx - 0\n",
      "1 : ['date', 'site_id', 'daily_mean_pm10_conentration', 'daily_aqi_value']\n",
      "2 : ['2020-01-01', '60070008', '27', '25']\n",
      "3 : ['2020-01-02', '60070008', '22', '20']\n",
      "4 : ['2020-01-03', '60070008', '30', '28']\n",
      "5 : ['2020-01-04', '60070008', '17', '16']\n",
      "6 : ['2020-01-05', '60070008', '18', '17']\n",
      "7 : ['2020-01-06', '60070008', '13', '12']\n",
      "8 : ['2020-01-07', '60070008', '26', '24']\n",
      "9 : ['2020-01-08', '60070008', '24', '22']\n",
      "10 : ['2020-01-09', '60070008', '9', '8']\n"
     ]
    }
   ],
   "source": [
    "csv_file = CSVReader(\"../Data/epa_air_quality.csv\",header= False)\n",
    "csv_file.print()"
   ]
  },
  {
   "cell_type": "code",
   "execution_count": null,
   "id": "0bc0bbd0",
   "metadata": {},
   "outputs": [],
   "source": []
  },
  {
   "cell_type": "code",
   "execution_count": null,
   "id": "fff7fa86",
   "metadata": {},
   "outputs": [],
   "source": []
  }
 ],
 "metadata": {
  "kernelspec": {
   "display_name": "base",
   "language": "python",
   "name": "python3"
  },
  "language_info": {
   "codemirror_mode": {
    "name": "ipython",
    "version": 3
   },
   "file_extension": ".py",
   "mimetype": "text/x-python",
   "name": "python",
   "nbconvert_exporter": "python",
   "pygments_lexer": "ipython3",
   "version": "3.13.5"
  }
 },
 "nbformat": 4,
 "nbformat_minor": 5
}
