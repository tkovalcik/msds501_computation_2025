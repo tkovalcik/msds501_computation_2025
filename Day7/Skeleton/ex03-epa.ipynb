{
 "cells": [
  {
   "cell_type": "code",
   "execution_count": 1,
   "metadata": {},
   "outputs": [],
   "source": [
    "import csv"
   ]
  },
  {
   "cell_type": "code",
   "execution_count": null,
   "metadata": {},
   "outputs": [],
   "source": [
    "class EpaStation():\n",
    "    \"\"\"\n",
    "    Create a class called EpaStation.\n",
    "    where its consructor takes/assigns name, station_id, state, county, lon, and lat.\n",
    "    This class also has aqi_record which is a list of dictionary in a format of \n",
    "    {'YYYY-MM-DD': (pm10, aqi)}.\n",
    "    Override __eq__ which is invoked when == is being called.\n",
    "    Add a method called add_aqi_record(self, date, pm10, aqi), which \n",
    "    append {date:(pm10, aqi)} if the date is not yet in aqi_record.\n",
    "    \"\"\"\n",
    "    def __init__(self, name, station_id, state, county, lon, lat):\n",
    "        self.name = name\n",
    "        self.station_id = station_id\n",
    "        self.state = state\n",
    "        self.county = county\n",
    "        self.lon = lon\n",
    "        self.lat = lat\n",
    "\n",
    "    def __eq__(self, other): # This is called whenever you use ==\n",
    "        # return self == other # Default will check each attribute\n",
    "        return self.station_id == other.station_id # This will only compare the station_id attribute of each object to see if it's the same or not\n",
    "\n",
    "\n",
    "\n",
    "    def add_aqi_record(self, date, pm10, aqi):\n",
    "        self.aqi_record.append({date:(pm10, aqi)})\n",
    "        #self.aqi_record[date] = (pm10, aqi) # Alternative option using a dictionary\n",
    "\n",
    "        # if date not in self.aqi_record:\n",
    "        #     self.aqi_record.append({date:[pm10, aqi]})\n",
    "\n",
    "\n",
    "\n"
   ]
  },
  {
   "cell_type": "code",
   "execution_count": 12,
   "metadata": {},
   "outputs": [
    {
     "data": {
      "text/plain": [
       "True"
      ]
     },
     "execution_count": 12,
     "metadata": {},
     "output_type": "execute_result"
    }
   ],
   "source": [
    "epa_station_1 = EpaStation(\"SF\", 1, \"CA\", \"San Francisco\", 0 , 1)\n",
    "epa_station_1.county\n",
    "\n",
    "epa_station_1_1 = EpaStation(\"San Francisco - Downtown\", 1, \"CA\", \"SF\", -1, 1)\n",
    "epa_station_1 == epa_station_1_1\n"
   ]
  },
  {
   "cell_type": "code",
   "execution_count": 3,
   "metadata": {},
   "outputs": [],
   "source": [
    "file_name = '../../Data/epa_air_quality_detailed.csv'"
   ]
  },
  {
   "cell_type": "code",
   "execution_count": null,
   "metadata": {},
   "outputs": [],
   "source": [
    "def create_station_object_list(file_name):\n",
    "    \"\"\"\n",
    "    Create a function called, create_station_object_list(file_name) which reads data\n",
    "    from file_name (.csv) and creates a list of EpaStation objects which includes \n",
    "    name, station_id, state, county, lon, lat and api_record array of an EPA station.\n",
    "    \"\"\"\n",
    "\n",
    "    records =[]\n",
    "    station_set = set()\n",
    "    with open ('file_name', mode='r') as f:\n",
    "        lines = f.readlines()\n",
    "        for line in lines:\n",
    "            vals = line.strip().split('')\n",
    "            date = f\"{vals[0]}-{vals[1]}-{vals[2]}\"\n",
    "            name = vals[6]\n",
    "            station_id = vals[3]\n",
    "            state = vals[7]\n",
    "            county = vals[3]\n",
    "            lon = vals[4]\n",
    "            lat = vals[5]\n",
    "            # date = vals[-3]\n",
    "            pm10 = vals[-2]\n",
    "            aqi = vals[-1]\n",
    "\n",
    "            # if id not in station_set:\n",
    "            station = EpaStation(name, station_id, state, county, lon, lat)\n",
    "            if station not in station_set:\n",
    "                station_set.add(id)\n",
    "                station.add_aqi_record(date, pm10, aqi)\n",
    "\n",
    "\n",
    "            #EpaStation(line['name'], line['station_id'], line['state'], line['county'], line['lon'], line['lat'], line['aqi_record'])\n",
    "            \n"
   ]
  },
  {
   "cell_type": "code",
   "execution_count": 5,
   "metadata": {},
   "outputs": [
    {
     "ename": "FileNotFoundError",
     "evalue": "[Errno 2] No such file or directory: 'file_name'",
     "output_type": "error",
     "traceback": [
      "\u001b[0;31m---------------------------------------------------------------------------\u001b[0m",
      "\u001b[0;31mFileNotFoundError\u001b[0m                         Traceback (most recent call last)",
      "Cell \u001b[0;32mIn[5], line 1\u001b[0m\n\u001b[0;32m----> 1\u001b[0m \u001b[38;5;28;01mfor\u001b[39;00m station \u001b[38;5;129;01min\u001b[39;00m create_station_object_list(file_name):\n\u001b[1;32m      2\u001b[0m     \u001b[38;5;28mprint\u001b[39m(station\u001b[38;5;241m.\u001b[39m\u001b[38;5;18m__dict__\u001b[39m)\n",
      "Cell \u001b[0;32mIn[4], line 7\u001b[0m, in \u001b[0;36mcreate_station_object_list\u001b[0;34m(file_name)\u001b[0m\n\u001b[1;32m      1\u001b[0m \u001b[38;5;28;01mdef\u001b[39;00m\u001b[38;5;250m \u001b[39m\u001b[38;5;21mcreate_station_object_list\u001b[39m(file_name):\n\u001b[1;32m      2\u001b[0m \u001b[38;5;250m    \u001b[39m\u001b[38;5;124;03m\"\"\"\u001b[39;00m\n\u001b[1;32m      3\u001b[0m \u001b[38;5;124;03m    Create a function called, create_station_object_list(file_name) which reads data\u001b[39;00m\n\u001b[1;32m      4\u001b[0m \u001b[38;5;124;03m    from file_name (.csv) and creates a list of EpaStation objects which includes \u001b[39;00m\n\u001b[1;32m      5\u001b[0m \u001b[38;5;124;03m    name, station_id, state, county, lon, lat and api_record array of an EPA station.\u001b[39;00m\n\u001b[1;32m      6\u001b[0m \u001b[38;5;124;03m    \"\"\"\u001b[39;00m\n\u001b[0;32m----> 7\u001b[0m     \u001b[38;5;28;01mwith\u001b[39;00m \u001b[38;5;28mopen\u001b[39m (\u001b[38;5;124m'\u001b[39m\u001b[38;5;124mfile_name\u001b[39m\u001b[38;5;124m'\u001b[39m, mode\u001b[38;5;241m=\u001b[39m\u001b[38;5;124m'\u001b[39m\u001b[38;5;124mr\u001b[39m\u001b[38;5;124m'\u001b[39m) \u001b[38;5;28;01mas\u001b[39;00m f:\n\u001b[1;32m      8\u001b[0m         lines \u001b[38;5;241m=\u001b[39m f\u001b[38;5;241m.\u001b[39mreadlines()\n\u001b[1;32m      9\u001b[0m         \u001b[38;5;28;01mfor\u001b[39;00m line \u001b[38;5;129;01min\u001b[39;00m lines:\n",
      "File \u001b[0;32m/opt/anaconda3/lib/python3.13/site-packages/IPython/core/interactiveshell.py:324\u001b[0m, in \u001b[0;36m_modified_open\u001b[0;34m(file, *args, **kwargs)\u001b[0m\n\u001b[1;32m    317\u001b[0m \u001b[38;5;28;01mif\u001b[39;00m file \u001b[38;5;129;01min\u001b[39;00m {\u001b[38;5;241m0\u001b[39m, \u001b[38;5;241m1\u001b[39m, \u001b[38;5;241m2\u001b[39m}:\n\u001b[1;32m    318\u001b[0m     \u001b[38;5;28;01mraise\u001b[39;00m \u001b[38;5;167;01mValueError\u001b[39;00m(\n\u001b[1;32m    319\u001b[0m         \u001b[38;5;124mf\u001b[39m\u001b[38;5;124m\"\u001b[39m\u001b[38;5;124mIPython won\u001b[39m\u001b[38;5;124m'\u001b[39m\u001b[38;5;124mt let you open fd=\u001b[39m\u001b[38;5;132;01m{\u001b[39;00mfile\u001b[38;5;132;01m}\u001b[39;00m\u001b[38;5;124m by default \u001b[39m\u001b[38;5;124m\"\u001b[39m\n\u001b[1;32m    320\u001b[0m         \u001b[38;5;124m\"\u001b[39m\u001b[38;5;124mas it is likely to crash IPython. If you know what you are doing, \u001b[39m\u001b[38;5;124m\"\u001b[39m\n\u001b[1;32m    321\u001b[0m         \u001b[38;5;124m\"\u001b[39m\u001b[38;5;124myou can use builtins\u001b[39m\u001b[38;5;124m'\u001b[39m\u001b[38;5;124m open.\u001b[39m\u001b[38;5;124m\"\u001b[39m\n\u001b[1;32m    322\u001b[0m     )\n\u001b[0;32m--> 324\u001b[0m \u001b[38;5;28;01mreturn\u001b[39;00m io_open(file, \u001b[38;5;241m*\u001b[39margs, \u001b[38;5;241m*\u001b[39m\u001b[38;5;241m*\u001b[39mkwargs)\n",
      "\u001b[0;31mFileNotFoundError\u001b[0m: [Errno 2] No such file or directory: 'file_name'"
     ]
    }
   ],
   "source": [
    "for station in create_station_object_list(file_name):\n",
    "    print(station.__dict__)\n"
   ]
  },
  {
   "cell_type": "code",
   "execution_count": null,
   "metadata": {},
   "outputs": [],
   "source": []
  }
 ],
 "metadata": {
  "kernelspec": {
   "display_name": "base",
   "language": "python",
   "name": "python3"
  },
  "language_info": {
   "codemirror_mode": {
    "name": "ipython",
    "version": 3
   },
   "file_extension": ".py",
   "mimetype": "text/x-python",
   "name": "python",
   "nbconvert_exporter": "python",
   "pygments_lexer": "ipython3",
   "version": "3.13.5"
  },
  "orig_nbformat": 4
 },
 "nbformat": 4,
 "nbformat_minor": 2
}
