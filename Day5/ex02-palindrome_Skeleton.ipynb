{
 "cells": [
  {
   "attachments": {},
   "cell_type": "markdown",
   "id": "cce3db75-1aad-4086-9264-2d09e1c182cb",
   "metadata": {
    "tags": []
   },
   "source": [
    "## palindrome\n",
    "For a given sentence (input), create a function called find_palindrome_words() takes a string and return a list of strings that are palindrome words. A palindrome word remains the same when read forwards and backwards.\n",
    "\n",
    "Ex. pop, Noon\n",
    "\n",
    "<b> Note: </b> Complete the function with docstrings and function annotations."
   ]
  },
  {
   "cell_type": "code",
   "execution_count": 5,
   "id": "609fca4b-54a7-47b5-82cf-bceefc41b748",
   "metadata": {},
   "outputs": [],
   "source": [
    "def find_palindrome_words(input : str):\n",
    "    words = input.split(' ')\n",
    "\n",
    "    palindrome_list = list()\n",
    "\n",
    "    for word in words:\n",
    "\n",
    "        if word == word.reverse():\n",
    "            palindrome_list.add(word)\n",
    "\n",
    "        # # Check if word has even amount of letters\n",
    "        # if len(word)%2 == 0:\n",
    "        \n",
    "        #     for i in range(word/2):\n",
    "        #         if (word(i) == word(-i)):\n",
    "\n",
    "\n",
    "\n",
    "\n",
    "        # # Check if word has odd amount of letters\n",
    "        # elif len(word)%2 ==1:\n",
    "\n",
    "\n",
    "        # for i in word:\n",
    "            \n",
    "    #for word in arg:\n",
    "\n",
    "\n",
    "   "
   ]
  },
  {
   "cell_type": "code",
   "execution_count": 6,
   "id": "c72e185d-32ee-4263-ab0e-b266aef9a4ae",
   "metadata": {},
   "outputs": [
    {
     "ename": "AttributeError",
     "evalue": "'str' object has no attribute 'reverse'",
     "output_type": "error",
     "traceback": [
      "\u001b[0;31m---------------------------------------------------------------------------\u001b[0m",
      "\u001b[0;31mAttributeError\u001b[0m                            Traceback (most recent call last)",
      "Cell \u001b[0;32mIn[6], line 2\u001b[0m\n\u001b[1;32m      1\u001b[0m input_sentence \u001b[38;5;241m=\u001b[39m \u001b[38;5;124m'\u001b[39m\u001b[38;5;124mI did not like to listen a tot pop at Noon\u001b[39m\u001b[38;5;124m'\u001b[39m\n\u001b[0;32m----> 2\u001b[0m find_palindrome_words(input_sentence)\n",
      "Cell \u001b[0;32mIn[5], line 8\u001b[0m, in \u001b[0;36mfind_palindrome_words\u001b[0;34m(input)\u001b[0m\n\u001b[1;32m      4\u001b[0m palindrome_list \u001b[38;5;241m=\u001b[39m \u001b[38;5;28mlist\u001b[39m()\n\u001b[1;32m      6\u001b[0m \u001b[38;5;28;01mfor\u001b[39;00m word \u001b[38;5;129;01min\u001b[39;00m words:\n\u001b[0;32m----> 8\u001b[0m     \u001b[38;5;28;01mif\u001b[39;00m word \u001b[38;5;241m==\u001b[39m word\u001b[38;5;241m.\u001b[39mreverse():\n\u001b[1;32m      9\u001b[0m         palindrome_list\u001b[38;5;241m.\u001b[39madd(word)\n",
      "\u001b[0;31mAttributeError\u001b[0m: 'str' object has no attribute 'reverse'"
     ]
    }
   ],
   "source": [
    "input_sentence = 'I did not like to listen a tot pop at Noon'\n",
    "find_palindrome_words(input_sentence)"
   ]
  },
  {
   "cell_type": "code",
   "execution_count": null,
   "id": "545da86b-b402-4466-bc0c-46edf48a9801",
   "metadata": {},
   "outputs": [],
   "source": []
  }
 ],
 "metadata": {
  "kernelspec": {
   "display_name": "base",
   "language": "python",
   "name": "python3"
  },
  "language_info": {
   "codemirror_mode": {
    "name": "ipython",
    "version": 3
   },
   "file_extension": ".py",
   "mimetype": "text/x-python",
   "name": "python",
   "nbconvert_exporter": "python",
   "pygments_lexer": "ipython3",
   "version": "3.13.5"
  }
 },
 "nbformat": 4,
 "nbformat_minor": 5
}
